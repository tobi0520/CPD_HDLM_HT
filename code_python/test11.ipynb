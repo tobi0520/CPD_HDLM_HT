{
 "cells": [
  {
   "cell_type": "code",
   "execution_count": null,
   "metadata": {},
   "outputs": [],
   "source": [
    "\n",
    "import numpy as np\n",
    "import general_func as gf\n",
    "import bs_cqr_admm as bca"
   ]
  },
  {
   "cell_type": "code",
   "execution_count": null,
   "metadata": {},
   "outputs": [],
   "source": [
    "d0 = 10\n",
    "p = 120\n",
    "n = 200\n",
    "K = 5\n",
    "cpt_true = [100, 150]\n",
    "kappa = 5\n",
    "cov_type = 'T'\n",
    "error_type = 't2'\n",
    "delta = 30\n",
    "arr = np.arange(1/(K+1), 1, 1/(K+1))\n",
    "tau = arr[arr < 0.99]\n",
    "niter = 20000\n",
    "cov_X = toeplitz(0.8 ** np.arange(p))"
   ]
  },
  {
   "cell_type": "code",
   "execution_count": null,
   "metadata": {},
   "outputs": [],
   "source": [
    "# * 参数设置\n",
    "data_class = gf.Generate_Data(d0, cpt_true, p, n, kappa, cov_type, error_type)\n",
    "X = data_class.output['X']\n",
    "y = data_class.output['y']\n",
    "beta = data_class.output['betafullmat']\n",
    "true_beta = beta[0,]\n",
    "Xcenter = X-X.mean(axis=0)\n",
    "true_set = np.where(true_beta != 0)[0]"
   ]
  },
  {
   "cell_type": "code",
   "execution_count": null,
   "metadata": {},
   "outputs": [],
   "source": [
    "bca.binary_seg_cqr(X, y, tau,10,30)"
   ]
  }
 ],
 "metadata": {
  "language_info": {
   "name": "python"
  }
 },
 "nbformat": 4,
 "nbformat_minor": 2
}
